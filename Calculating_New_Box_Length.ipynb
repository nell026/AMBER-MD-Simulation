{
 "cells": [
  {
   "cell_type": "code",
   "execution_count": 12,
   "id": "f8717b0a",
   "metadata": {},
   "outputs": [
    {
     "name": "stdout",
     "output_type": "stream",
     "text": [
      "Predicted volume: 117720.26740144765\n",
      "Average volume: 117830.185\n",
      "New length of the box: 53.49249032089104\n",
      "New length of the box: 53.49249032089105\n"
     ]
    }
   ],
   "source": [
    "### ============ MD3, Adjusting the truncated octahedron box length ============ ###\n",
    "\n",
    "length = 53.4758517\n",
    "\n",
    "predicted_volume = (1/2)*(4/3)**(3/2)*(length)**3\n",
    "print(\"Predicted volume:\",predicted_volume)\n",
    "\n",
    "average_actual_volume = 117830.1850\n",
    "print(\"Average volume:\",average_actual_volume)\n",
    "\n",
    "length_3 = average_actual_volume/((1/2)*(4/3)**(3/2))\n",
    "#print(lenqth_3)\n",
    "\n",
    "length_new = length_3**(1/3)\n",
    "print(\"New length of the box:\", length_new)\n",
    "\n",
    "\n",
    "### ============ Easier, alternative way ============ ###\n",
    "\n",
    "d = (average_actual_volume/predicted_volume)**(1/3)\n",
    "#print(d)\n",
    "\n",
    "l_new = d*length\n",
    "print(\"New length of the box:\", l_new)"
   ]
  }
 ],
 "metadata": {
  "kernelspec": {
   "display_name": "Python 3 (ipykernel)",
   "language": "python",
   "name": "python3"
  },
  "language_info": {
   "codemirror_mode": {
    "name": "ipython",
    "version": 3
   },
   "file_extension": ".py",
   "mimetype": "text/x-python",
   "name": "python",
   "nbconvert_exporter": "python",
   "pygments_lexer": "ipython3",
   "version": "3.9.7"
  }
 },
 "nbformat": 4,
 "nbformat_minor": 5
}
